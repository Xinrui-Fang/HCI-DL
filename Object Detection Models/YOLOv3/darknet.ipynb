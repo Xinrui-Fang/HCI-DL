{
 "cells": [
  {
   "cell_type": "code",
   "execution_count": 1,
   "metadata": {},
   "outputs": [],
   "source": [
    "from __future__ import division\n",
    "\n",
    "import torch\n",
    "import torch.nn as nn\n",
    "import torch.nn.functional as F\n",
    "from torch.autograd import Variable\n",
    "import numpy as np"
   ]
  },
  {
   "cell_type": "code",
   "execution_count": 5,
   "metadata": {},
   "outputs": [],
   "source": [
    "def parse_cfg(cfgfile):\n",
    "    \n",
    "    \"\"\"\n",
    "    Takes a configuration file\n",
    "    \n",
    "    Returns a list of blocks. Each blocks describes a block in the neural\n",
    "    network to be built. Block is represented as a dictionary in the list\n",
    "    \n",
    "    \"\"\"\n",
    "    file = open(cfgfile, 'r')\n",
    "    lines = file.read().split('\\n') # store the lines in a list\n",
    "    lines = [x for x in lines if len(x) > 0] # get rid of the empty lines\n",
    "    lines = [x for x in lines if x[0] != '#' ] # get rid of comments\n",
    "    lines = [x.rstrip().lstrip() for x in lines] #get rid of fringe whitespaces\n",
    "    \n",
    "    # Then, we loop over the resultant list to get blocks.\n",
    "    block = {}\n",
    "    blocks = []\n",
    "    \n",
    "    for line in lines:\n",
    "        if line[0] == \"[\": # This marks the start of a new block\n",
    "            if len(block) != 0: # If block is not empty, implies it is storing  values of previous block.\n",
    "                blocks.append(block) # add it the blocks list\n",
    "                block = {} # re-init the block\n",
    "            block[\"type\"] = line[1:-1].rstrip()\n",
    "        else:\n",
    "            key.value = line.split(\"=\")\n",
    "            block[key.rstrip()] = value.lstrip()\n",
    "    blocks.append(block)\n",
    "    \n",
    "    return blocks\n",
    "        "
   ]
  },
  {
   "cell_type": "code",
   "execution_count": 1,
   "metadata": {},
   "outputs": [],
   "source": [
    "def create_modules(blocks):\n",
    "    net_info = blocks[0] # Captures the information about the input and pre-processing\n",
    "    module_list = nn.ModuleList()\n",
    "    prev_filters = 3\n",
    "    output_filters = []\n",
    "    \n",
    "    for index, x in enumerate(blocks[1:]):\n",
    "        module = nn.Sequential()\n",
    "        \n",
    "        # check the type pf block\n",
    "        # create a new module for the block\n",
    "        # append to module_list"
   ]
  },
  {
   "cell_type": "code",
   "execution_count": null,
   "metadata": {},
   "outputs": [],
   "source": []
  }
 ],
 "metadata": {
  "kernelspec": {
   "display_name": "Python 3",
   "language": "python",
   "name": "python3"
  },
  "language_info": {
   "codemirror_mode": {
    "name": "ipython",
    "version": 3
   },
   "file_extension": ".py",
   "mimetype": "text/x-python",
   "name": "python",
   "nbconvert_exporter": "python",
   "pygments_lexer": "ipython3",
   "version": "3.7.6"
  }
 },
 "nbformat": 4,
 "nbformat_minor": 4
}
